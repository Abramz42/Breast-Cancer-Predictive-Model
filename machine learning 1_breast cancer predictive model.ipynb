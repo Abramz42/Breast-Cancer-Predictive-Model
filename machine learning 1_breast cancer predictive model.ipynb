{
 "cells": [
  {
   "cell_type": "markdown",
   "id": "9814e3ba",
   "metadata": {},
   "source": [
    "# Breast Cancer Data Science Project\n",
    "\n",
    "Hello, **I'm Ademola Abraham Adeshina**, **a Health Information Data analyst** and I will be working on a real world dataset called **`breast cancer Dataset`** alongside with its **`Metadata`**. The Breast cancer dataset which is in the CSV format was gotten from [data.mendeley.com](https://data.mendeley.com/datasets/63fpbc9cm4/2).\n",
    "\n",
    "I will be making use of Python data analysis libaries to analyze, clean and transform the Data in preparation for machine learning techinqiue to make a predictive model.\n",
    "\n",
    "# Data Description\n",
    "\n",
    "The Dataset consist of 213 patients observation, which was obtained from the University of Calabar Teaching Hospital Cancer registry from january 2019 to August 2020, which is located in Nigeria.\n",
    "The Data include 11 features, which are;\n",
    "\n",
    "* Year of diagnosis\n",
    "* Age of patient\n",
    "* menopause status\n",
    "* tumor size(cm)\n",
    "* number of invasive nodes\n",
    "* part of breast affected(left or right)\n",
    "* metastasis\n",
    "* quadrant of the breast affected\n",
    "* history of breast disease\n",
    "* diagnosis result(benign or malignant)\n",
    "\n",
    "## Importing Python libaries that will be used for data cleaning and machine learning"
   ]
  },
  {
   "cell_type": "code",
   "execution_count": 59,
   "id": "c7300647",
   "metadata": {},
   "outputs": [],
   "source": [
    "import numpy as np\n",
    "import pandas as pd\n",
    "import seaborn as sns\n",
    "import matplotlib\n",
    "from sklearn import linear_model # importing python library for calculating Regression"
   ]
  },
  {
   "cell_type": "markdown",
   "id": "7124493c",
   "metadata": {},
   "source": [
    "# Data Preparation"
   ]
  },
  {
   "cell_type": "code",
   "execution_count": 2,
   "id": "58d9af79",
   "metadata": {},
   "outputs": [
    {
     "data": {
      "text/html": [
       "<div>\n",
       "<style scoped>\n",
       "    .dataframe tbody tr th:only-of-type {\n",
       "        vertical-align: middle;\n",
       "    }\n",
       "\n",
       "    .dataframe tbody tr th {\n",
       "        vertical-align: top;\n",
       "    }\n",
       "\n",
       "    .dataframe thead th {\n",
       "        text-align: right;\n",
       "    }\n",
       "</style>\n",
       "<table border=\"1\" class=\"dataframe\">\n",
       "  <thead>\n",
       "    <tr style=\"text-align: right;\">\n",
       "      <th></th>\n",
       "      <th>S/N</th>\n",
       "      <th>Year</th>\n",
       "      <th>Age</th>\n",
       "      <th>Menopause</th>\n",
       "      <th>Tumor Size (cm)</th>\n",
       "      <th>Inv-Nodes</th>\n",
       "      <th>Breast</th>\n",
       "      <th>Metastasis</th>\n",
       "      <th>Breast Quadrant</th>\n",
       "      <th>History</th>\n",
       "      <th>Diagnosis Result</th>\n",
       "    </tr>\n",
       "  </thead>\n",
       "  <tbody>\n",
       "    <tr>\n",
       "      <th>0</th>\n",
       "      <td>1</td>\n",
       "      <td>2019</td>\n",
       "      <td>40</td>\n",
       "      <td>1</td>\n",
       "      <td>2</td>\n",
       "      <td>0</td>\n",
       "      <td>Right</td>\n",
       "      <td>0</td>\n",
       "      <td>Upper inner</td>\n",
       "      <td>0</td>\n",
       "      <td>Benign</td>\n",
       "    </tr>\n",
       "    <tr>\n",
       "      <th>1</th>\n",
       "      <td>2</td>\n",
       "      <td>2019</td>\n",
       "      <td>39</td>\n",
       "      <td>1</td>\n",
       "      <td>2</td>\n",
       "      <td>0</td>\n",
       "      <td>Left</td>\n",
       "      <td>0</td>\n",
       "      <td>Upper outer</td>\n",
       "      <td>0</td>\n",
       "      <td>Benign</td>\n",
       "    </tr>\n",
       "    <tr>\n",
       "      <th>2</th>\n",
       "      <td>3</td>\n",
       "      <td>2019</td>\n",
       "      <td>45</td>\n",
       "      <td>0</td>\n",
       "      <td>4</td>\n",
       "      <td>0</td>\n",
       "      <td>Left</td>\n",
       "      <td>0</td>\n",
       "      <td>Lower outer</td>\n",
       "      <td>0</td>\n",
       "      <td>Benign</td>\n",
       "    </tr>\n",
       "    <tr>\n",
       "      <th>3</th>\n",
       "      <td>4</td>\n",
       "      <td>2019</td>\n",
       "      <td>26</td>\n",
       "      <td>1</td>\n",
       "      <td>3</td>\n",
       "      <td>0</td>\n",
       "      <td>Left</td>\n",
       "      <td>0</td>\n",
       "      <td>Lower inner</td>\n",
       "      <td>1</td>\n",
       "      <td>Benign</td>\n",
       "    </tr>\n",
       "    <tr>\n",
       "      <th>4</th>\n",
       "      <td>5</td>\n",
       "      <td>2019</td>\n",
       "      <td>21</td>\n",
       "      <td>1</td>\n",
       "      <td>1</td>\n",
       "      <td>0</td>\n",
       "      <td>Right</td>\n",
       "      <td>0</td>\n",
       "      <td>Upper outer</td>\n",
       "      <td>1</td>\n",
       "      <td>Benign</td>\n",
       "    </tr>\n",
       "    <tr>\n",
       "      <th>...</th>\n",
       "      <td>...</td>\n",
       "      <td>...</td>\n",
       "      <td>...</td>\n",
       "      <td>...</td>\n",
       "      <td>...</td>\n",
       "      <td>...</td>\n",
       "      <td>...</td>\n",
       "      <td>...</td>\n",
       "      <td>...</td>\n",
       "      <td>...</td>\n",
       "      <td>...</td>\n",
       "    </tr>\n",
       "    <tr>\n",
       "      <th>208</th>\n",
       "      <td>209</td>\n",
       "      <td>2020</td>\n",
       "      <td>49</td>\n",
       "      <td>1</td>\n",
       "      <td>6</td>\n",
       "      <td>3</td>\n",
       "      <td>Right</td>\n",
       "      <td>1</td>\n",
       "      <td>Lower inner</td>\n",
       "      <td>1</td>\n",
       "      <td>Malignant</td>\n",
       "    </tr>\n",
       "    <tr>\n",
       "      <th>209</th>\n",
       "      <td>210</td>\n",
       "      <td>2020</td>\n",
       "      <td>28</td>\n",
       "      <td>1</td>\n",
       "      <td>3</td>\n",
       "      <td>0</td>\n",
       "      <td>Left</td>\n",
       "      <td>0</td>\n",
       "      <td>Upper inner</td>\n",
       "      <td>0</td>\n",
       "      <td>Benign</td>\n",
       "    </tr>\n",
       "    <tr>\n",
       "      <th>210</th>\n",
       "      <td>211</td>\n",
       "      <td>2020</td>\n",
       "      <td>22</td>\n",
       "      <td>1</td>\n",
       "      <td>1</td>\n",
       "      <td>0</td>\n",
       "      <td>Left</td>\n",
       "      <td>0</td>\n",
       "      <td>Upper outer</td>\n",
       "      <td>1</td>\n",
       "      <td>Benign</td>\n",
       "    </tr>\n",
       "    <tr>\n",
       "      <th>211</th>\n",
       "      <td>212</td>\n",
       "      <td>2020</td>\n",
       "      <td>19</td>\n",
       "      <td>1</td>\n",
       "      <td>1</td>\n",
       "      <td>0</td>\n",
       "      <td>Left</td>\n",
       "      <td>0</td>\n",
       "      <td>Lower inner</td>\n",
       "      <td>1</td>\n",
       "      <td>Benign</td>\n",
       "    </tr>\n",
       "    <tr>\n",
       "      <th>212</th>\n",
       "      <td>213</td>\n",
       "      <td>2020</td>\n",
       "      <td>50</td>\n",
       "      <td>0</td>\n",
       "      <td>4</td>\n",
       "      <td>0</td>\n",
       "      <td>Right</td>\n",
       "      <td>0</td>\n",
       "      <td>Lower outer</td>\n",
       "      <td>1</td>\n",
       "      <td>Benign</td>\n",
       "    </tr>\n",
       "  </tbody>\n",
       "</table>\n",
       "<p>213 rows × 11 columns</p>\n",
       "</div>"
      ],
      "text/plain": [
       "     S/N  Year  Age  Menopause Tumor Size (cm) Inv-Nodes Breast Metastasis  \\\n",
       "0      1  2019   40          1               2         0  Right          0   \n",
       "1      2  2019   39          1               2         0   Left          0   \n",
       "2      3  2019   45          0               4         0   Left          0   \n",
       "3      4  2019   26          1               3         0   Left          0   \n",
       "4      5  2019   21          1               1         0  Right          0   \n",
       "..   ...   ...  ...        ...             ...       ...    ...        ...   \n",
       "208  209  2020   49          1               6         3  Right          1   \n",
       "209  210  2020   28          1               3         0   Left          0   \n",
       "210  211  2020   22          1               1         0   Left          0   \n",
       "211  212  2020   19          1               1         0   Left          0   \n",
       "212  213  2020   50          0               4         0  Right          0   \n",
       "\n",
       "    Breast Quadrant History Diagnosis Result  \n",
       "0       Upper inner       0           Benign  \n",
       "1       Upper outer       0           Benign  \n",
       "2       Lower outer       0           Benign  \n",
       "3       Lower inner       1           Benign  \n",
       "4       Upper outer       1           Benign  \n",
       "..              ...     ...              ...  \n",
       "208     Lower inner       1        Malignant  \n",
       "209     Upper inner       0           Benign  \n",
       "210     Upper outer       1           Benign  \n",
       "211     Lower inner       1           Benign  \n",
       "212     Lower outer       1           Benign  \n",
       "\n",
       "[213 rows x 11 columns]"
      ]
     },
     "execution_count": 2,
     "metadata": {},
     "output_type": "execute_result"
    }
   ],
   "source": [
    "raw_data = pd.read_csv(r'breast-cancer-dataset.csv') \n",
    "raw_data # Loading the dataset into the jupyter notebook(Working space) with pandas for analysis"
   ]
  },
  {
   "cell_type": "code",
   "execution_count": 3,
   "id": "9a1b6d41",
   "metadata": {},
   "outputs": [
    {
     "data": {
      "text/html": [
       "<div>\n",
       "<style scoped>\n",
       "    .dataframe tbody tr th:only-of-type {\n",
       "        vertical-align: middle;\n",
       "    }\n",
       "\n",
       "    .dataframe tbody tr th {\n",
       "        vertical-align: top;\n",
       "    }\n",
       "\n",
       "    .dataframe thead th {\n",
       "        text-align: right;\n",
       "    }\n",
       "</style>\n",
       "<table border=\"1\" class=\"dataframe\">\n",
       "  <thead>\n",
       "    <tr style=\"text-align: right;\">\n",
       "      <th></th>\n",
       "      <th>S/N</th>\n",
       "      <th>Year</th>\n",
       "      <th>Age</th>\n",
       "      <th>Menopause</th>\n",
       "      <th>Tumor Size (cm)</th>\n",
       "      <th>Inv-Nodes</th>\n",
       "      <th>Breast</th>\n",
       "      <th>Metastasis</th>\n",
       "      <th>Breast Quadrant</th>\n",
       "      <th>History</th>\n",
       "      <th>Diagnosis Result</th>\n",
       "    </tr>\n",
       "  </thead>\n",
       "  <tbody>\n",
       "    <tr>\n",
       "      <th>0</th>\n",
       "      <td>1</td>\n",
       "      <td>2019</td>\n",
       "      <td>40</td>\n",
       "      <td>1</td>\n",
       "      <td>2</td>\n",
       "      <td>0</td>\n",
       "      <td>Right</td>\n",
       "      <td>0</td>\n",
       "      <td>Upper inner</td>\n",
       "      <td>0</td>\n",
       "      <td>Benign</td>\n",
       "    </tr>\n",
       "    <tr>\n",
       "      <th>1</th>\n",
       "      <td>2</td>\n",
       "      <td>2019</td>\n",
       "      <td>39</td>\n",
       "      <td>1</td>\n",
       "      <td>2</td>\n",
       "      <td>0</td>\n",
       "      <td>Left</td>\n",
       "      <td>0</td>\n",
       "      <td>Upper outer</td>\n",
       "      <td>0</td>\n",
       "      <td>Benign</td>\n",
       "    </tr>\n",
       "    <tr>\n",
       "      <th>2</th>\n",
       "      <td>3</td>\n",
       "      <td>2019</td>\n",
       "      <td>45</td>\n",
       "      <td>0</td>\n",
       "      <td>4</td>\n",
       "      <td>0</td>\n",
       "      <td>Left</td>\n",
       "      <td>0</td>\n",
       "      <td>Lower outer</td>\n",
       "      <td>0</td>\n",
       "      <td>Benign</td>\n",
       "    </tr>\n",
       "    <tr>\n",
       "      <th>3</th>\n",
       "      <td>4</td>\n",
       "      <td>2019</td>\n",
       "      <td>26</td>\n",
       "      <td>1</td>\n",
       "      <td>3</td>\n",
       "      <td>0</td>\n",
       "      <td>Left</td>\n",
       "      <td>0</td>\n",
       "      <td>Lower inner</td>\n",
       "      <td>1</td>\n",
       "      <td>Benign</td>\n",
       "    </tr>\n",
       "    <tr>\n",
       "      <th>4</th>\n",
       "      <td>5</td>\n",
       "      <td>2019</td>\n",
       "      <td>21</td>\n",
       "      <td>1</td>\n",
       "      <td>1</td>\n",
       "      <td>0</td>\n",
       "      <td>Right</td>\n",
       "      <td>0</td>\n",
       "      <td>Upper outer</td>\n",
       "      <td>1</td>\n",
       "      <td>Benign</td>\n",
       "    </tr>\n",
       "    <tr>\n",
       "      <th>...</th>\n",
       "      <td>...</td>\n",
       "      <td>...</td>\n",
       "      <td>...</td>\n",
       "      <td>...</td>\n",
       "      <td>...</td>\n",
       "      <td>...</td>\n",
       "      <td>...</td>\n",
       "      <td>...</td>\n",
       "      <td>...</td>\n",
       "      <td>...</td>\n",
       "      <td>...</td>\n",
       "    </tr>\n",
       "    <tr>\n",
       "      <th>208</th>\n",
       "      <td>209</td>\n",
       "      <td>2020</td>\n",
       "      <td>49</td>\n",
       "      <td>1</td>\n",
       "      <td>6</td>\n",
       "      <td>3</td>\n",
       "      <td>Right</td>\n",
       "      <td>1</td>\n",
       "      <td>Lower inner</td>\n",
       "      <td>1</td>\n",
       "      <td>Malignant</td>\n",
       "    </tr>\n",
       "    <tr>\n",
       "      <th>209</th>\n",
       "      <td>210</td>\n",
       "      <td>2020</td>\n",
       "      <td>28</td>\n",
       "      <td>1</td>\n",
       "      <td>3</td>\n",
       "      <td>0</td>\n",
       "      <td>Left</td>\n",
       "      <td>0</td>\n",
       "      <td>Upper inner</td>\n",
       "      <td>0</td>\n",
       "      <td>Benign</td>\n",
       "    </tr>\n",
       "    <tr>\n",
       "      <th>210</th>\n",
       "      <td>211</td>\n",
       "      <td>2020</td>\n",
       "      <td>22</td>\n",
       "      <td>1</td>\n",
       "      <td>1</td>\n",
       "      <td>0</td>\n",
       "      <td>Left</td>\n",
       "      <td>0</td>\n",
       "      <td>Upper outer</td>\n",
       "      <td>1</td>\n",
       "      <td>Benign</td>\n",
       "    </tr>\n",
       "    <tr>\n",
       "      <th>211</th>\n",
       "      <td>212</td>\n",
       "      <td>2020</td>\n",
       "      <td>19</td>\n",
       "      <td>1</td>\n",
       "      <td>1</td>\n",
       "      <td>0</td>\n",
       "      <td>Left</td>\n",
       "      <td>0</td>\n",
       "      <td>Lower inner</td>\n",
       "      <td>1</td>\n",
       "      <td>Benign</td>\n",
       "    </tr>\n",
       "    <tr>\n",
       "      <th>212</th>\n",
       "      <td>213</td>\n",
       "      <td>2020</td>\n",
       "      <td>50</td>\n",
       "      <td>0</td>\n",
       "      <td>4</td>\n",
       "      <td>0</td>\n",
       "      <td>Right</td>\n",
       "      <td>0</td>\n",
       "      <td>Lower outer</td>\n",
       "      <td>1</td>\n",
       "      <td>Benign</td>\n",
       "    </tr>\n",
       "  </tbody>\n",
       "</table>\n",
       "<p>213 rows × 11 columns</p>\n",
       "</div>"
      ],
      "text/plain": [
       "     S/N  Year  Age  Menopause Tumor Size (cm) Inv-Nodes Breast Metastasis  \\\n",
       "0      1  2019   40          1               2         0  Right          0   \n",
       "1      2  2019   39          1               2         0   Left          0   \n",
       "2      3  2019   45          0               4         0   Left          0   \n",
       "3      4  2019   26          1               3         0   Left          0   \n",
       "4      5  2019   21          1               1         0  Right          0   \n",
       "..   ...   ...  ...        ...             ...       ...    ...        ...   \n",
       "208  209  2020   49          1               6         3  Right          1   \n",
       "209  210  2020   28          1               3         0   Left          0   \n",
       "210  211  2020   22          1               1         0   Left          0   \n",
       "211  212  2020   19          1               1         0   Left          0   \n",
       "212  213  2020   50          0               4         0  Right          0   \n",
       "\n",
       "    Breast Quadrant History Diagnosis Result  \n",
       "0       Upper inner       0           Benign  \n",
       "1       Upper outer       0           Benign  \n",
       "2       Lower outer       0           Benign  \n",
       "3       Lower inner       1           Benign  \n",
       "4       Upper outer       1           Benign  \n",
       "..              ...     ...              ...  \n",
       "208     Lower inner       1        Malignant  \n",
       "209     Upper inner       0           Benign  \n",
       "210     Upper outer       1           Benign  \n",
       "211     Lower inner       1           Benign  \n",
       "212     Lower outer       1           Benign  \n",
       "\n",
       "[213 rows x 11 columns]"
      ]
     },
     "execution_count": 3,
     "metadata": {},
     "output_type": "execute_result"
    }
   ],
   "source": [
    "data = raw_data.copy() # Making a copy of the original loaded dataset\n",
    "data"
   ]
  },
  {
   "cell_type": "code",
   "execution_count": 4,
   "id": "70e49956",
   "metadata": {},
   "outputs": [
    {
     "data": {
      "text/plain": [
       "Column Header\n",
       "S/N                            Unique identification for each patient\n",
       "Year                                 The year diagnosis was conducted\n",
       "Age                            Age of patient at the time of diagnose\n",
       "Menopause           Whether the patient is pro or postmenopausal a...\n",
       "Tumor size                The size in centimeter of the excised tumor\n",
       "Involved nodes      The number of axillary lymph nodes that contai...\n",
       "Breast                         If it occurs on the left or right side\n",
       "Metastatic          If the cancer has spread to other part of the ...\n",
       "Breast quadrant     The gland is divided into 4 sections with nipp...\n",
       "History             If the patient has any history or family histo...\n",
       "Diagnosis result               Instances of the breast cancer dataset\n",
       "Name: Column Description, dtype: object"
      ]
     },
     "execution_count": 4,
     "metadata": {},
     "output_type": "execute_result"
    }
   ],
   "source": [
    "metadata = pd.read_csv(r'breast-cancer-metadata.csv',index_col='Column Header')['Column Description']\n",
    "metadata # Loading the Metadata into the jupyter notebook(Working space) with pandas"
   ]
  },
  {
   "cell_type": "code",
   "execution_count": 5,
   "id": "7b0f9db4",
   "metadata": {},
   "outputs": [
    {
     "data": {
      "text/plain": [
       "'If the patient has any history or family history on cancer'"
      ]
     },
     "execution_count": 5,
     "metadata": {},
     "output_type": "execute_result"
    }
   ],
   "source": [
    "metadata['History']"
   ]
  },
  {
   "cell_type": "markdown",
   "id": "ed662ca8",
   "metadata": {},
   "source": [
    "with this, we are now done loading our dataset and metadata, we can now proceed to the next step of preprocessing and cleaning of the data for analysis.\n",
    "\n",
    "# Data cleaning"
   ]
  },
  {
   "cell_type": "code",
   "execution_count": 6,
   "id": "9611da2a",
   "metadata": {},
   "outputs": [
    {
     "data": {
      "text/plain": [
       "0"
      ]
     },
     "execution_count": 6,
     "metadata": {},
     "output_type": "execute_result"
    }
   ],
   "source": [
    "data.duplicated().sum() # Checking for duplicated rows(repeated datas)"
   ]
  },
  {
   "cell_type": "code",
   "execution_count": 7,
   "id": "4f819ad9",
   "metadata": {},
   "outputs": [
    {
     "data": {
      "text/plain": [
       "S/N                 0\n",
       "Year                0\n",
       "Age                 0\n",
       "Menopause           0\n",
       "Tumor Size (cm)     0\n",
       "Inv-Nodes           0\n",
       "Breast              0\n",
       "Metastasis          0\n",
       "Breast Quadrant     0\n",
       "History             0\n",
       "Diagnosis Result    0\n",
       "dtype: int64"
      ]
     },
     "execution_count": 7,
     "metadata": {},
     "output_type": "execute_result"
    }
   ],
   "source": [
    "data.isnull().sum() # checking for null values"
   ]
  },
  {
   "cell_type": "code",
   "execution_count": 8,
   "id": "fa102b37",
   "metadata": {},
   "outputs": [
    {
     "data": {
      "text/plain": [
       "Index(['S/N', 'Year', 'Age', 'Menopause', 'Tumor Size (cm)', 'Inv-Nodes',\n",
       "       'Breast', 'Metastasis', 'Breast Quadrant', 'History',\n",
       "       'Diagnosis Result'],\n",
       "      dtype='object')"
      ]
     },
     "execution_count": 8,
     "metadata": {},
     "output_type": "execute_result"
    }
   ],
   "source": [
    "data.columns # checking the columns in the dataset"
   ]
  },
  {
   "cell_type": "code",
   "execution_count": 9,
   "id": "d148dc00",
   "metadata": {},
   "outputs": [
    {
     "data": {
      "text/plain": [
       "(213, 11)"
      ]
     },
     "execution_count": 9,
     "metadata": {},
     "output_type": "execute_result"
    }
   ],
   "source": [
    "data.shape # checking for the number of rows and columns of the whole data"
   ]
  },
  {
   "cell_type": "code",
   "execution_count": 10,
   "id": "200b3a04",
   "metadata": {},
   "outputs": [
    {
     "name": "stdout",
     "output_type": "stream",
     "text": [
      "<class 'pandas.core.frame.DataFrame'>\n",
      "RangeIndex: 213 entries, 0 to 212\n",
      "Data columns (total 11 columns):\n",
      " #   Column            Non-Null Count  Dtype \n",
      "---  ------            --------------  ----- \n",
      " 0   S/N               213 non-null    int64 \n",
      " 1   Year              213 non-null    object\n",
      " 2   Age               213 non-null    int64 \n",
      " 3   Menopause         213 non-null    int64 \n",
      " 4   Tumor Size (cm)   213 non-null    object\n",
      " 5   Inv-Nodes         213 non-null    object\n",
      " 6   Breast            213 non-null    object\n",
      " 7   Metastasis        213 non-null    object\n",
      " 8   Breast Quadrant   213 non-null    object\n",
      " 9   History           213 non-null    object\n",
      " 10  Diagnosis Result  213 non-null    object\n",
      "dtypes: int64(3), object(8)\n",
      "memory usage: 18.4+ KB\n"
     ]
    }
   ],
   "source": [
    "data.info() # Checking the summarized form of the data in the dataset"
   ]
  },
  {
   "cell_type": "code",
   "execution_count": 11,
   "id": "649760d5",
   "metadata": {},
   "outputs": [
    {
     "data": {
      "text/plain": [
       "S/N                 213\n",
       "Year                  3\n",
       "Age                  58\n",
       "Menopause             2\n",
       "Tumor Size (cm)      13\n",
       "Inv-Nodes             4\n",
       "Breast                3\n",
       "Metastasis            3\n",
       "Breast Quadrant       6\n",
       "History               3\n",
       "Diagnosis Result      2\n",
       "dtype: int64"
      ]
     },
     "execution_count": 11,
     "metadata": {},
     "output_type": "execute_result"
    }
   ],
   "source": [
    "data.nunique() # Checking the number of unique values in each columns"
   ]
  },
  {
   "cell_type": "code",
   "execution_count": 12,
   "id": "1551f032",
   "metadata": {},
   "outputs": [
    {
     "data": {
      "text/plain": [
       "array(['2019', '#', '2020'], dtype=object)"
      ]
     },
     "execution_count": 12,
     "metadata": {},
     "output_type": "execute_result"
    }
   ],
   "source": [
    "data['Year'].unique() # Unique values in the Year columns"
   ]
  },
  {
   "cell_type": "code",
   "execution_count": 13,
   "id": "72f5939f",
   "metadata": {},
   "outputs": [],
   "source": [
    "data.where((data['Year'] != '#'), np.nan, inplace=True) # replacing the # value with a null value in the Year column"
   ]
  },
  {
   "cell_type": "code",
   "execution_count": 14,
   "id": "cbf9ab18",
   "metadata": {},
   "outputs": [
    {
     "data": {
      "text/plain": [
       "array(['2019', nan, '2020'], dtype=object)"
      ]
     },
     "execution_count": 14,
     "metadata": {},
     "output_type": "execute_result"
    }
   ],
   "source": [
    "data['Year'].unique()"
   ]
  },
  {
   "cell_type": "code",
   "execution_count": 15,
   "id": "2d88004f",
   "metadata": {},
   "outputs": [
    {
     "data": {
      "text/plain": [
       "array([40., 39., 45., 26., 21., 50., 58., 35., 42., 41., 43., 30., 33.,\n",
       "       38., 60., 47., 57., 34., 31., 36., 56., 48., 61., 20., nan, 37.,\n",
       "       27., 25., 17., 23., 59., 67., 46., 24., 49., 53., 28., 68., 64.,\n",
       "       18., 14., 15., 54., 71., 55., 22., 65., 19., 52., 51., 44., 63.,\n",
       "       29., 32., 62., 69., 13., 16., 77.])"
      ]
     },
     "execution_count": 15,
     "metadata": {},
     "output_type": "execute_result"
    }
   ],
   "source": [
    "data.Age.unique() # Unique values in the Age column"
   ]
  },
  {
   "cell_type": "code",
   "execution_count": 16,
   "id": "a1e1d2c8",
   "metadata": {},
   "outputs": [
    {
     "data": {
      "text/plain": [
       "array([ 1.,  0., nan])"
      ]
     },
     "execution_count": 16,
     "metadata": {},
     "output_type": "execute_result"
    }
   ],
   "source": [
    "data.Menopause.unique() # Unique values in the Menopause column"
   ]
  },
  {
   "cell_type": "code",
   "execution_count": 17,
   "id": "9ab02cd8",
   "metadata": {},
   "outputs": [
    {
     "data": {
      "text/plain": [
       "array(['2', '4', '3', '1', '5', '6', '7', '10', '8', '9', nan, '14', '12'],\n",
       "      dtype=object)"
      ]
     },
     "execution_count": 17,
     "metadata": {},
     "output_type": "execute_result"
    }
   ],
   "source": [
    "data['Tumor Size (cm)'].unique() # Unique values in the Tumor size column"
   ]
  },
  {
   "cell_type": "code",
   "execution_count": 18,
   "id": "94224871",
   "metadata": {},
   "outputs": [
    {
     "data": {
      "text/plain": [
       "array(['0', '1', nan, '3'], dtype=object)"
      ]
     },
     "execution_count": 18,
     "metadata": {},
     "output_type": "execute_result"
    }
   ],
   "source": [
    "data['Inv-Nodes'].unique() # Unique values in the Involved nodes columns"
   ]
  },
  {
   "cell_type": "code",
   "execution_count": 19,
   "id": "8c7d9b23",
   "metadata": {},
   "outputs": [
    {
     "data": {
      "text/plain": [
       "array(['Right', 'Left', nan, '#'], dtype=object)"
      ]
     },
     "execution_count": 19,
     "metadata": {},
     "output_type": "execute_result"
    }
   ],
   "source": [
    "data['Breast'].unique() # Unique values in the Breast column"
   ]
  },
  {
   "cell_type": "code",
   "execution_count": 20,
   "id": "086616ad",
   "metadata": {},
   "outputs": [],
   "source": [
    "data.where((data['Breast'] != '#'), np.nan, inplace=True) # replacing the # values with a null value in the Breast column"
   ]
  },
  {
   "cell_type": "code",
   "execution_count": 21,
   "id": "8893f475",
   "metadata": {},
   "outputs": [
    {
     "data": {
      "text/plain": [
       "array(['Right', 'Left', nan], dtype=object)"
      ]
     },
     "execution_count": 21,
     "metadata": {},
     "output_type": "execute_result"
    }
   ],
   "source": [
    "data['Breast'].unique()"
   ]
  },
  {
   "cell_type": "code",
   "execution_count": 22,
   "id": "1ce9a912",
   "metadata": {},
   "outputs": [
    {
     "data": {
      "text/plain": [
       "array(['0', '1', nan], dtype=object)"
      ]
     },
     "execution_count": 22,
     "metadata": {},
     "output_type": "execute_result"
    }
   ],
   "source": [
    "data['Metastasis'].unique() # Unique values in the Metastasis column"
   ]
  },
  {
   "cell_type": "code",
   "execution_count": 23,
   "id": "2af8c12e",
   "metadata": {},
   "outputs": [
    {
     "data": {
      "text/plain": [
       "array(['Upper inner', 'Upper outer', 'Lower outer', 'Lower inner', '#',\n",
       "       nan, 'Upper outer '], dtype=object)"
      ]
     },
     "execution_count": 23,
     "metadata": {},
     "output_type": "execute_result"
    }
   ],
   "source": [
    "data['Breast Quadrant'].unique() # Unique values in the Breast Quadrant column"
   ]
  },
  {
   "cell_type": "code",
   "execution_count": 24,
   "id": "79343602",
   "metadata": {},
   "outputs": [],
   "source": [
    "data.where((data['Breast Quadrant'] != '#'), np.nan, inplace=True) # replacing #values with null values in the column\n",
    "data['Breast Quadrant'] = data['Breast Quadrant'].str.strip()"
   ]
  },
  {
   "cell_type": "code",
   "execution_count": 25,
   "id": "d6a4062a",
   "metadata": {},
   "outputs": [
    {
     "data": {
      "text/plain": [
       "array(['Upper inner', 'Upper outer', 'Lower outer', 'Lower inner', nan],\n",
       "      dtype=object)"
      ]
     },
     "execution_count": 25,
     "metadata": {},
     "output_type": "execute_result"
    }
   ],
   "source": [
    "data['Breast Quadrant'].unique()"
   ]
  },
  {
   "cell_type": "code",
   "execution_count": 26,
   "id": "2a08e316",
   "metadata": {},
   "outputs": [
    {
     "data": {
      "text/plain": [
       "array(['0', '1', nan, '#'], dtype=object)"
      ]
     },
     "execution_count": 26,
     "metadata": {},
     "output_type": "execute_result"
    }
   ],
   "source": [
    "data['History'].unique() # Unique values in the History column"
   ]
  },
  {
   "cell_type": "code",
   "execution_count": 27,
   "id": "38864aa2",
   "metadata": {},
   "outputs": [],
   "source": [
    "data.where(~(data.History == '#'), np.nan, inplace=True) # replacing #values with null values"
   ]
  },
  {
   "cell_type": "code",
   "execution_count": 28,
   "id": "90155b2d",
   "metadata": {},
   "outputs": [
    {
     "data": {
      "text/plain": [
       "array(['0', '1', nan], dtype=object)"
      ]
     },
     "execution_count": 28,
     "metadata": {},
     "output_type": "execute_result"
    }
   ],
   "source": [
    "data['History'].unique()"
   ]
  },
  {
   "cell_type": "code",
   "execution_count": 29,
   "id": "01e44244",
   "metadata": {},
   "outputs": [
    {
     "data": {
      "text/plain": [
       "array(['Benign', 'Malignant', nan], dtype=object)"
      ]
     },
     "execution_count": 29,
     "metadata": {},
     "output_type": "execute_result"
    }
   ],
   "source": [
    "data['Diagnosis Result'].unique()"
   ]
  },
  {
   "cell_type": "code",
   "execution_count": 30,
   "id": "48505e0d",
   "metadata": {},
   "outputs": [
    {
     "data": {
      "text/plain": [
       "S/N                 8\n",
       "Year                8\n",
       "Age                 8\n",
       "Menopause           8\n",
       "Tumor Size (cm)     8\n",
       "Inv-Nodes           8\n",
       "Breast              8\n",
       "Metastasis          8\n",
       "Breast Quadrant     8\n",
       "History             8\n",
       "Diagnosis Result    8\n",
       "dtype: int64"
      ]
     },
     "execution_count": 30,
     "metadata": {},
     "output_type": "execute_result"
    }
   ],
   "source": [
    "data.isnull().sum() # Checking the number of null values in each columns of the dataset"
   ]
  },
  {
   "cell_type": "code",
   "execution_count": 31,
   "id": "2a319319",
   "metadata": {},
   "outputs": [
    {
     "data": {
      "text/html": [
       "<div>\n",
       "<style scoped>\n",
       "    .dataframe tbody tr th:only-of-type {\n",
       "        vertical-align: middle;\n",
       "    }\n",
       "\n",
       "    .dataframe tbody tr th {\n",
       "        vertical-align: top;\n",
       "    }\n",
       "\n",
       "    .dataframe thead th {\n",
       "        text-align: right;\n",
       "    }\n",
       "</style>\n",
       "<table border=\"1\" class=\"dataframe\">\n",
       "  <thead>\n",
       "    <tr style=\"text-align: right;\">\n",
       "      <th></th>\n",
       "      <th>S/N</th>\n",
       "      <th>Year</th>\n",
       "      <th>Age</th>\n",
       "      <th>Menopause</th>\n",
       "      <th>Tumor Size (cm)</th>\n",
       "      <th>Inv-Nodes</th>\n",
       "      <th>Breast</th>\n",
       "      <th>Metastasis</th>\n",
       "      <th>Breast Quadrant</th>\n",
       "      <th>History</th>\n",
       "      <th>Diagnosis Result</th>\n",
       "    </tr>\n",
       "  </thead>\n",
       "  <tbody>\n",
       "    <tr>\n",
       "      <th>0</th>\n",
       "      <td>1.0</td>\n",
       "      <td>2019</td>\n",
       "      <td>40.0</td>\n",
       "      <td>1.0</td>\n",
       "      <td>2</td>\n",
       "      <td>0</td>\n",
       "      <td>Right</td>\n",
       "      <td>0</td>\n",
       "      <td>Upper inner</td>\n",
       "      <td>0</td>\n",
       "      <td>Benign</td>\n",
       "    </tr>\n",
       "    <tr>\n",
       "      <th>1</th>\n",
       "      <td>2.0</td>\n",
       "      <td>2019</td>\n",
       "      <td>39.0</td>\n",
       "      <td>1.0</td>\n",
       "      <td>2</td>\n",
       "      <td>0</td>\n",
       "      <td>Left</td>\n",
       "      <td>0</td>\n",
       "      <td>Upper outer</td>\n",
       "      <td>0</td>\n",
       "      <td>Benign</td>\n",
       "    </tr>\n",
       "    <tr>\n",
       "      <th>2</th>\n",
       "      <td>3.0</td>\n",
       "      <td>2019</td>\n",
       "      <td>45.0</td>\n",
       "      <td>0.0</td>\n",
       "      <td>4</td>\n",
       "      <td>0</td>\n",
       "      <td>Left</td>\n",
       "      <td>0</td>\n",
       "      <td>Lower outer</td>\n",
       "      <td>0</td>\n",
       "      <td>Benign</td>\n",
       "    </tr>\n",
       "    <tr>\n",
       "      <th>3</th>\n",
       "      <td>4.0</td>\n",
       "      <td>2019</td>\n",
       "      <td>26.0</td>\n",
       "      <td>1.0</td>\n",
       "      <td>3</td>\n",
       "      <td>0</td>\n",
       "      <td>Left</td>\n",
       "      <td>0</td>\n",
       "      <td>Lower inner</td>\n",
       "      <td>1</td>\n",
       "      <td>Benign</td>\n",
       "    </tr>\n",
       "    <tr>\n",
       "      <th>4</th>\n",
       "      <td>5.0</td>\n",
       "      <td>2019</td>\n",
       "      <td>21.0</td>\n",
       "      <td>1.0</td>\n",
       "      <td>1</td>\n",
       "      <td>0</td>\n",
       "      <td>Right</td>\n",
       "      <td>0</td>\n",
       "      <td>Upper outer</td>\n",
       "      <td>1</td>\n",
       "      <td>Benign</td>\n",
       "    </tr>\n",
       "    <tr>\n",
       "      <th>...</th>\n",
       "      <td>...</td>\n",
       "      <td>...</td>\n",
       "      <td>...</td>\n",
       "      <td>...</td>\n",
       "      <td>...</td>\n",
       "      <td>...</td>\n",
       "      <td>...</td>\n",
       "      <td>...</td>\n",
       "      <td>...</td>\n",
       "      <td>...</td>\n",
       "      <td>...</td>\n",
       "    </tr>\n",
       "    <tr>\n",
       "      <th>208</th>\n",
       "      <td>209.0</td>\n",
       "      <td>2020</td>\n",
       "      <td>49.0</td>\n",
       "      <td>1.0</td>\n",
       "      <td>6</td>\n",
       "      <td>3</td>\n",
       "      <td>Right</td>\n",
       "      <td>1</td>\n",
       "      <td>Lower inner</td>\n",
       "      <td>1</td>\n",
       "      <td>Malignant</td>\n",
       "    </tr>\n",
       "    <tr>\n",
       "      <th>209</th>\n",
       "      <td>210.0</td>\n",
       "      <td>2020</td>\n",
       "      <td>28.0</td>\n",
       "      <td>1.0</td>\n",
       "      <td>3</td>\n",
       "      <td>0</td>\n",
       "      <td>Left</td>\n",
       "      <td>0</td>\n",
       "      <td>Upper inner</td>\n",
       "      <td>0</td>\n",
       "      <td>Benign</td>\n",
       "    </tr>\n",
       "    <tr>\n",
       "      <th>210</th>\n",
       "      <td>211.0</td>\n",
       "      <td>2020</td>\n",
       "      <td>22.0</td>\n",
       "      <td>1.0</td>\n",
       "      <td>1</td>\n",
       "      <td>0</td>\n",
       "      <td>Left</td>\n",
       "      <td>0</td>\n",
       "      <td>Upper outer</td>\n",
       "      <td>1</td>\n",
       "      <td>Benign</td>\n",
       "    </tr>\n",
       "    <tr>\n",
       "      <th>211</th>\n",
       "      <td>212.0</td>\n",
       "      <td>2020</td>\n",
       "      <td>19.0</td>\n",
       "      <td>1.0</td>\n",
       "      <td>1</td>\n",
       "      <td>0</td>\n",
       "      <td>Left</td>\n",
       "      <td>0</td>\n",
       "      <td>Lower inner</td>\n",
       "      <td>1</td>\n",
       "      <td>Benign</td>\n",
       "    </tr>\n",
       "    <tr>\n",
       "      <th>212</th>\n",
       "      <td>213.0</td>\n",
       "      <td>2020</td>\n",
       "      <td>50.0</td>\n",
       "      <td>0.0</td>\n",
       "      <td>4</td>\n",
       "      <td>0</td>\n",
       "      <td>Right</td>\n",
       "      <td>0</td>\n",
       "      <td>Lower outer</td>\n",
       "      <td>1</td>\n",
       "      <td>Benign</td>\n",
       "    </tr>\n",
       "  </tbody>\n",
       "</table>\n",
       "<p>205 rows × 11 columns</p>\n",
       "</div>"
      ],
      "text/plain": [
       "       S/N  Year   Age  Menopause Tumor Size (cm) Inv-Nodes Breast Metastasis  \\\n",
       "0      1.0  2019  40.0        1.0               2         0  Right          0   \n",
       "1      2.0  2019  39.0        1.0               2         0   Left          0   \n",
       "2      3.0  2019  45.0        0.0               4         0   Left          0   \n",
       "3      4.0  2019  26.0        1.0               3         0   Left          0   \n",
       "4      5.0  2019  21.0        1.0               1         0  Right          0   \n",
       "..     ...   ...   ...        ...             ...       ...    ...        ...   \n",
       "208  209.0  2020  49.0        1.0               6         3  Right          1   \n",
       "209  210.0  2020  28.0        1.0               3         0   Left          0   \n",
       "210  211.0  2020  22.0        1.0               1         0   Left          0   \n",
       "211  212.0  2020  19.0        1.0               1         0   Left          0   \n",
       "212  213.0  2020  50.0        0.0               4         0  Right          0   \n",
       "\n",
       "    Breast Quadrant History Diagnosis Result  \n",
       "0       Upper inner       0           Benign  \n",
       "1       Upper outer       0           Benign  \n",
       "2       Lower outer       0           Benign  \n",
       "3       Lower inner       1           Benign  \n",
       "4       Upper outer       1           Benign  \n",
       "..              ...     ...              ...  \n",
       "208     Lower inner       1        Malignant  \n",
       "209     Upper inner       0           Benign  \n",
       "210     Upper outer       1           Benign  \n",
       "211     Lower inner       1           Benign  \n",
       "212     Lower outer       1           Benign  \n",
       "\n",
       "[205 rows x 11 columns]"
      ]
     },
     "execution_count": 31,
     "metadata": {},
     "output_type": "execute_result"
    }
   ],
   "source": [
    "data.dropna(inplace=True) # removing the null values from the dataset\n",
    "data"
   ]
  },
  {
   "cell_type": "code",
   "execution_count": 32,
   "id": "35bed737",
   "metadata": {},
   "outputs": [
    {
     "data": {
      "text/html": [
       "<div>\n",
       "<style scoped>\n",
       "    .dataframe tbody tr th:only-of-type {\n",
       "        vertical-align: middle;\n",
       "    }\n",
       "\n",
       "    .dataframe tbody tr th {\n",
       "        vertical-align: top;\n",
       "    }\n",
       "\n",
       "    .dataframe thead th {\n",
       "        text-align: right;\n",
       "    }\n",
       "</style>\n",
       "<table border=\"1\" class=\"dataframe\">\n",
       "  <thead>\n",
       "    <tr style=\"text-align: right;\">\n",
       "      <th></th>\n",
       "      <th>S/N</th>\n",
       "      <th>Year</th>\n",
       "      <th>Age</th>\n",
       "      <th>Menopause</th>\n",
       "      <th>Tumor Size (cm)</th>\n",
       "      <th>Inv-Nodes</th>\n",
       "      <th>Breast</th>\n",
       "      <th>Metastasis</th>\n",
       "      <th>Breast Quadrant</th>\n",
       "      <th>History</th>\n",
       "      <th>Diagnosis Result</th>\n",
       "    </tr>\n",
       "  </thead>\n",
       "  <tbody>\n",
       "    <tr>\n",
       "      <th>0</th>\n",
       "      <td>1.0</td>\n",
       "      <td>2019</td>\n",
       "      <td>40.0</td>\n",
       "      <td>1.0</td>\n",
       "      <td>2</td>\n",
       "      <td>0</td>\n",
       "      <td>Right</td>\n",
       "      <td>0</td>\n",
       "      <td>Upper inner</td>\n",
       "      <td>0</td>\n",
       "      <td>Benign</td>\n",
       "    </tr>\n",
       "    <tr>\n",
       "      <th>1</th>\n",
       "      <td>2.0</td>\n",
       "      <td>2019</td>\n",
       "      <td>39.0</td>\n",
       "      <td>1.0</td>\n",
       "      <td>2</td>\n",
       "      <td>0</td>\n",
       "      <td>Left</td>\n",
       "      <td>0</td>\n",
       "      <td>Upper outer</td>\n",
       "      <td>0</td>\n",
       "      <td>Benign</td>\n",
       "    </tr>\n",
       "    <tr>\n",
       "      <th>2</th>\n",
       "      <td>3.0</td>\n",
       "      <td>2019</td>\n",
       "      <td>45.0</td>\n",
       "      <td>0.0</td>\n",
       "      <td>4</td>\n",
       "      <td>0</td>\n",
       "      <td>Left</td>\n",
       "      <td>0</td>\n",
       "      <td>Lower outer</td>\n",
       "      <td>0</td>\n",
       "      <td>Benign</td>\n",
       "    </tr>\n",
       "    <tr>\n",
       "      <th>3</th>\n",
       "      <td>4.0</td>\n",
       "      <td>2019</td>\n",
       "      <td>26.0</td>\n",
       "      <td>1.0</td>\n",
       "      <td>3</td>\n",
       "      <td>0</td>\n",
       "      <td>Left</td>\n",
       "      <td>0</td>\n",
       "      <td>Lower inner</td>\n",
       "      <td>1</td>\n",
       "      <td>Benign</td>\n",
       "    </tr>\n",
       "    <tr>\n",
       "      <th>4</th>\n",
       "      <td>5.0</td>\n",
       "      <td>2019</td>\n",
       "      <td>21.0</td>\n",
       "      <td>1.0</td>\n",
       "      <td>1</td>\n",
       "      <td>0</td>\n",
       "      <td>Right</td>\n",
       "      <td>0</td>\n",
       "      <td>Upper outer</td>\n",
       "      <td>1</td>\n",
       "      <td>Benign</td>\n",
       "    </tr>\n",
       "    <tr>\n",
       "      <th>...</th>\n",
       "      <td>...</td>\n",
       "      <td>...</td>\n",
       "      <td>...</td>\n",
       "      <td>...</td>\n",
       "      <td>...</td>\n",
       "      <td>...</td>\n",
       "      <td>...</td>\n",
       "      <td>...</td>\n",
       "      <td>...</td>\n",
       "      <td>...</td>\n",
       "      <td>...</td>\n",
       "    </tr>\n",
       "    <tr>\n",
       "      <th>200</th>\n",
       "      <td>209.0</td>\n",
       "      <td>2020</td>\n",
       "      <td>49.0</td>\n",
       "      <td>1.0</td>\n",
       "      <td>6</td>\n",
       "      <td>3</td>\n",
       "      <td>Right</td>\n",
       "      <td>1</td>\n",
       "      <td>Lower inner</td>\n",
       "      <td>1</td>\n",
       "      <td>Malignant</td>\n",
       "    </tr>\n",
       "    <tr>\n",
       "      <th>201</th>\n",
       "      <td>210.0</td>\n",
       "      <td>2020</td>\n",
       "      <td>28.0</td>\n",
       "      <td>1.0</td>\n",
       "      <td>3</td>\n",
       "      <td>0</td>\n",
       "      <td>Left</td>\n",
       "      <td>0</td>\n",
       "      <td>Upper inner</td>\n",
       "      <td>0</td>\n",
       "      <td>Benign</td>\n",
       "    </tr>\n",
       "    <tr>\n",
       "      <th>202</th>\n",
       "      <td>211.0</td>\n",
       "      <td>2020</td>\n",
       "      <td>22.0</td>\n",
       "      <td>1.0</td>\n",
       "      <td>1</td>\n",
       "      <td>0</td>\n",
       "      <td>Left</td>\n",
       "      <td>0</td>\n",
       "      <td>Upper outer</td>\n",
       "      <td>1</td>\n",
       "      <td>Benign</td>\n",
       "    </tr>\n",
       "    <tr>\n",
       "      <th>203</th>\n",
       "      <td>212.0</td>\n",
       "      <td>2020</td>\n",
       "      <td>19.0</td>\n",
       "      <td>1.0</td>\n",
       "      <td>1</td>\n",
       "      <td>0</td>\n",
       "      <td>Left</td>\n",
       "      <td>0</td>\n",
       "      <td>Lower inner</td>\n",
       "      <td>1</td>\n",
       "      <td>Benign</td>\n",
       "    </tr>\n",
       "    <tr>\n",
       "      <th>204</th>\n",
       "      <td>213.0</td>\n",
       "      <td>2020</td>\n",
       "      <td>50.0</td>\n",
       "      <td>0.0</td>\n",
       "      <td>4</td>\n",
       "      <td>0</td>\n",
       "      <td>Right</td>\n",
       "      <td>0</td>\n",
       "      <td>Lower outer</td>\n",
       "      <td>1</td>\n",
       "      <td>Benign</td>\n",
       "    </tr>\n",
       "  </tbody>\n",
       "</table>\n",
       "<p>205 rows × 11 columns</p>\n",
       "</div>"
      ],
      "text/plain": [
       "       S/N  Year   Age  Menopause Tumor Size (cm) Inv-Nodes Breast Metastasis  \\\n",
       "0      1.0  2019  40.0        1.0               2         0  Right          0   \n",
       "1      2.0  2019  39.0        1.0               2         0   Left          0   \n",
       "2      3.0  2019  45.0        0.0               4         0   Left          0   \n",
       "3      4.0  2019  26.0        1.0               3         0   Left          0   \n",
       "4      5.0  2019  21.0        1.0               1         0  Right          0   \n",
       "..     ...   ...   ...        ...             ...       ...    ...        ...   \n",
       "200  209.0  2020  49.0        1.0               6         3  Right          1   \n",
       "201  210.0  2020  28.0        1.0               3         0   Left          0   \n",
       "202  211.0  2020  22.0        1.0               1         0   Left          0   \n",
       "203  212.0  2020  19.0        1.0               1         0   Left          0   \n",
       "204  213.0  2020  50.0        0.0               4         0  Right          0   \n",
       "\n",
       "    Breast Quadrant History Diagnosis Result  \n",
       "0       Upper inner       0           Benign  \n",
       "1       Upper outer       0           Benign  \n",
       "2       Lower outer       0           Benign  \n",
       "3       Lower inner       1           Benign  \n",
       "4       Upper outer       1           Benign  \n",
       "..              ...     ...              ...  \n",
       "200     Lower inner       1        Malignant  \n",
       "201     Upper inner       0           Benign  \n",
       "202     Upper outer       1           Benign  \n",
       "203     Lower inner       1           Benign  \n",
       "204     Lower outer       1           Benign  \n",
       "\n",
       "[205 rows x 11 columns]"
      ]
     },
     "execution_count": 32,
     "metadata": {},
     "output_type": "execute_result"
    }
   ],
   "source": [
    "data.reset_index(drop=True, inplace=True) # resetting the index of the dataset in an orderly manner\n",
    "data"
   ]
  },
  {
   "cell_type": "code",
   "execution_count": 33,
   "id": "abc5c0fa",
   "metadata": {},
   "outputs": [
    {
     "data": {
      "text/plain": [
       "S/N                 float64\n",
       "Year                 object\n",
       "Age                 float64\n",
       "Menopause           float64\n",
       "Tumor Size (cm)      object\n",
       "Inv-Nodes            object\n",
       "Breast               object\n",
       "Metastasis           object\n",
       "Breast Quadrant      object\n",
       "History              object\n",
       "Diagnosis Result     object\n",
       "dtype: object"
      ]
     },
     "execution_count": 33,
     "metadata": {},
     "output_type": "execute_result"
    }
   ],
   "source": [
    "data.dtypes # checking the datatypes of each column"
   ]
  },
  {
   "cell_type": "code",
   "execution_count": 34,
   "id": "1721ea04",
   "metadata": {},
   "outputs": [],
   "source": [
    "# changing the data type of each columns to the appropriate data types\n",
    "\n",
    "data['Diagnosis Result'] = data['Diagnosis Result'].astype('category')\n",
    "data['Tumor Size (cm)'] = pd.to_numeric(data['Tumor Size (cm)'])\n",
    "data['Age'] = pd.to_numeric(data['Age']).astype('int32')\n",
    "data['S/N'] = pd.to_numeric(data['S/N']).astype('int32')\n",
    "data['Menopause'] = data['Menopause'].astype('int32')\n",
    "data['Inv-Nodes'] = pd.to_numeric(data['Inv-Nodes'])\n",
    "data['Breast'] = data['Breast'].astype('string')\n",
    "data['Breast Quadrant'] = data['Breast Quadrant'].astype('string')\n",
    "data['History'] = pd.to_numeric(data['History']).astype('bool')\n",
    "data['Year'] = pd.to_numeric(data['Year']).astype('int32')\n",
    "data['Metastasis'] = data['Metastasis'].astype('int32').astype('bool')"
   ]
  },
  {
   "cell_type": "code",
   "execution_count": 35,
   "id": "9c311fb1",
   "metadata": {},
   "outputs": [
    {
     "data": {
      "text/plain": [
       "S/N                    int32\n",
       "Year                   int32\n",
       "Age                    int32\n",
       "Menopause              int32\n",
       "Tumor Size (cm)        int64\n",
       "Inv-Nodes              int64\n",
       "Breast                string\n",
       "Metastasis              bool\n",
       "Breast Quadrant       string\n",
       "History                 bool\n",
       "Diagnosis Result    category\n",
       "dtype: object"
      ]
     },
     "execution_count": 35,
     "metadata": {},
     "output_type": "execute_result"
    }
   ],
   "source": [
    "data.dtypes # checking the new datatypes of each column"
   ]
  },
  {
   "cell_type": "code",
   "execution_count": 36,
   "id": "e212fac7",
   "metadata": {},
   "outputs": [
    {
     "name": "stderr",
     "output_type": "stream",
     "text": [
      "C:\\Users\\MR ADEMOLA\\AppData\\Local\\Temp\\ipykernel_30160\\766033030.py:5: SettingWithCopyWarning: \n",
      "A value is trying to be set on a copy of a slice from a DataFrame\n",
      "\n",
      "See the caveats in the documentation: https://pandas.pydata.org/pandas-docs/stable/user_guide/indexing.html#returning-a-view-versus-a-copy\n",
      "  data['Menopause'].loc[n] = 'Pre Menopause'\n"
     ]
    }
   ],
   "source": [
    "for n,num in zip(data.index,data['Menopause']):\n",
    "    if num == 0:\n",
    "        data['Menopause'].loc[n] = 'Post Menopause'\n",
    "    else:\n",
    "        data['Menopause'].loc[n] = 'Pre Menopause'\n",
    "    # changing the data of the Menopause column(1 or 0) to a more detailed data(Post menopause or Pre menopause)\n",
    "data['Menopause'] = data['Menopause'].astype('string')"
   ]
  },
  {
   "cell_type": "code",
   "execution_count": 37,
   "id": "79ad2d77",
   "metadata": {},
   "outputs": [
    {
     "name": "stdout",
     "output_type": "stream",
     "text": [
      "<class 'pandas.core.frame.DataFrame'>\n",
      "RangeIndex: 205 entries, 0 to 204\n",
      "Data columns (total 11 columns):\n",
      " #   Column            Non-Null Count  Dtype   \n",
      "---  ------            --------------  -----   \n",
      " 0   S/N               205 non-null    int32   \n",
      " 1   Year              205 non-null    int32   \n",
      " 2   Age               205 non-null    int32   \n",
      " 3   Menopause         205 non-null    string  \n",
      " 4   Tumor Size (cm)   205 non-null    int64   \n",
      " 5   Inv-Nodes         205 non-null    int64   \n",
      " 6   Breast            205 non-null    string  \n",
      " 7   Metastasis        205 non-null    bool    \n",
      " 8   Breast Quadrant   205 non-null    string  \n",
      " 9   History           205 non-null    bool    \n",
      " 10  Diagnosis Result  205 non-null    category\n",
      "dtypes: bool(2), category(1), int32(3), int64(2), string(3)\n",
      "memory usage: 11.3 KB\n"
     ]
    }
   ],
   "source": [
    "data.info() # checking the summarized form of the datas in the dataset"
   ]
  },
  {
   "cell_type": "code",
   "execution_count": 38,
   "id": "d96c8a66",
   "metadata": {},
   "outputs": [
    {
     "data": {
      "text/html": [
       "<div>\n",
       "<style scoped>\n",
       "    .dataframe tbody tr th:only-of-type {\n",
       "        vertical-align: middle;\n",
       "    }\n",
       "\n",
       "    .dataframe tbody tr th {\n",
       "        vertical-align: top;\n",
       "    }\n",
       "\n",
       "    .dataframe thead th {\n",
       "        text-align: right;\n",
       "    }\n",
       "</style>\n",
       "<table border=\"1\" class=\"dataframe\">\n",
       "  <thead>\n",
       "    <tr style=\"text-align: right;\">\n",
       "      <th></th>\n",
       "      <th>S/N</th>\n",
       "      <th>Year</th>\n",
       "      <th>Age</th>\n",
       "      <th>Tumor Size (cm)</th>\n",
       "      <th>Inv-Nodes</th>\n",
       "    </tr>\n",
       "  </thead>\n",
       "  <tbody>\n",
       "    <tr>\n",
       "      <th>count</th>\n",
       "      <td>205.000000</td>\n",
       "      <td>205.000000</td>\n",
       "      <td>205.000000</td>\n",
       "      <td>205.000000</td>\n",
       "      <td>205.000000</td>\n",
       "    </tr>\n",
       "    <tr>\n",
       "      <th>mean</th>\n",
       "      <td>107.063415</td>\n",
       "      <td>2019.521951</td>\n",
       "      <td>39.712195</td>\n",
       "      <td>4.287805</td>\n",
       "      <td>0.356098</td>\n",
       "    </tr>\n",
       "    <tr>\n",
       "      <th>std</th>\n",
       "      <td>61.700978</td>\n",
       "      <td>0.500741</td>\n",
       "      <td>14.161883</td>\n",
       "      <td>2.572497</td>\n",
       "      <td>0.509733</td>\n",
       "    </tr>\n",
       "    <tr>\n",
       "      <th>min</th>\n",
       "      <td>1.000000</td>\n",
       "      <td>2019.000000</td>\n",
       "      <td>13.000000</td>\n",
       "      <td>1.000000</td>\n",
       "      <td>0.000000</td>\n",
       "    </tr>\n",
       "    <tr>\n",
       "      <th>25%</th>\n",
       "      <td>55.000000</td>\n",
       "      <td>2019.000000</td>\n",
       "      <td>30.000000</td>\n",
       "      <td>2.000000</td>\n",
       "      <td>0.000000</td>\n",
       "    </tr>\n",
       "    <tr>\n",
       "      <th>50%</th>\n",
       "      <td>107.000000</td>\n",
       "      <td>2020.000000</td>\n",
       "      <td>40.000000</td>\n",
       "      <td>4.000000</td>\n",
       "      <td>0.000000</td>\n",
       "    </tr>\n",
       "    <tr>\n",
       "      <th>75%</th>\n",
       "      <td>159.000000</td>\n",
       "      <td>2020.000000</td>\n",
       "      <td>49.000000</td>\n",
       "      <td>6.000000</td>\n",
       "      <td>1.000000</td>\n",
       "    </tr>\n",
       "    <tr>\n",
       "      <th>max</th>\n",
       "      <td>213.000000</td>\n",
       "      <td>2020.000000</td>\n",
       "      <td>77.000000</td>\n",
       "      <td>14.000000</td>\n",
       "      <td>3.000000</td>\n",
       "    </tr>\n",
       "  </tbody>\n",
       "</table>\n",
       "</div>"
      ],
      "text/plain": [
       "              S/N         Year         Age  Tumor Size (cm)   Inv-Nodes\n",
       "count  205.000000   205.000000  205.000000       205.000000  205.000000\n",
       "mean   107.063415  2019.521951   39.712195         4.287805    0.356098\n",
       "std     61.700978     0.500741   14.161883         2.572497    0.509733\n",
       "min      1.000000  2019.000000   13.000000         1.000000    0.000000\n",
       "25%     55.000000  2019.000000   30.000000         2.000000    0.000000\n",
       "50%    107.000000  2020.000000   40.000000         4.000000    0.000000\n",
       "75%    159.000000  2020.000000   49.000000         6.000000    1.000000\n",
       "max    213.000000  2020.000000   77.000000        14.000000    3.000000"
      ]
     },
     "execution_count": 38,
     "metadata": {},
     "output_type": "execute_result"
    }
   ],
   "source": [
    "data.describe() # Statistical summary of the dataset"
   ]
  },
  {
   "cell_type": "code",
   "execution_count": 39,
   "id": "c53493e2",
   "metadata": {},
   "outputs": [
    {
     "data": {
      "text/html": [
       "<div>\n",
       "<style scoped>\n",
       "    .dataframe tbody tr th:only-of-type {\n",
       "        vertical-align: middle;\n",
       "    }\n",
       "\n",
       "    .dataframe tbody tr th {\n",
       "        vertical-align: top;\n",
       "    }\n",
       "\n",
       "    .dataframe thead th {\n",
       "        text-align: right;\n",
       "    }\n",
       "</style>\n",
       "<table border=\"1\" class=\"dataframe\">\n",
       "  <thead>\n",
       "    <tr style=\"text-align: right;\">\n",
       "      <th></th>\n",
       "      <th>S/N</th>\n",
       "      <th>Year</th>\n",
       "      <th>Age</th>\n",
       "      <th>Menopause</th>\n",
       "      <th>Tumor Size (cm)</th>\n",
       "      <th>Inv-Nodes</th>\n",
       "      <th>Breast</th>\n",
       "      <th>Metastasis</th>\n",
       "      <th>Breast Quadrant</th>\n",
       "      <th>History</th>\n",
       "      <th>Diagnosis Result</th>\n",
       "      <th>Age group</th>\n",
       "    </tr>\n",
       "  </thead>\n",
       "  <tbody>\n",
       "    <tr>\n",
       "      <th>0</th>\n",
       "      <td>1</td>\n",
       "      <td>2019</td>\n",
       "      <td>40</td>\n",
       "      <td>Pre Menopause</td>\n",
       "      <td>2</td>\n",
       "      <td>0</td>\n",
       "      <td>Right</td>\n",
       "      <td>False</td>\n",
       "      <td>Upper inner</td>\n",
       "      <td>False</td>\n",
       "      <td>Benign</td>\n",
       "      <td>36 to 40</td>\n",
       "    </tr>\n",
       "    <tr>\n",
       "      <th>1</th>\n",
       "      <td>2</td>\n",
       "      <td>2019</td>\n",
       "      <td>39</td>\n",
       "      <td>Pre Menopause</td>\n",
       "      <td>2</td>\n",
       "      <td>0</td>\n",
       "      <td>Left</td>\n",
       "      <td>False</td>\n",
       "      <td>Upper outer</td>\n",
       "      <td>False</td>\n",
       "      <td>Benign</td>\n",
       "      <td>36 to 40</td>\n",
       "    </tr>\n",
       "    <tr>\n",
       "      <th>2</th>\n",
       "      <td>3</td>\n",
       "      <td>2019</td>\n",
       "      <td>45</td>\n",
       "      <td>Post Menopause</td>\n",
       "      <td>4</td>\n",
       "      <td>0</td>\n",
       "      <td>Left</td>\n",
       "      <td>False</td>\n",
       "      <td>Lower outer</td>\n",
       "      <td>False</td>\n",
       "      <td>Benign</td>\n",
       "      <td>41 to 45</td>\n",
       "    </tr>\n",
       "    <tr>\n",
       "      <th>3</th>\n",
       "      <td>4</td>\n",
       "      <td>2019</td>\n",
       "      <td>26</td>\n",
       "      <td>Pre Menopause</td>\n",
       "      <td>3</td>\n",
       "      <td>0</td>\n",
       "      <td>Left</td>\n",
       "      <td>False</td>\n",
       "      <td>Lower inner</td>\n",
       "      <td>True</td>\n",
       "      <td>Benign</td>\n",
       "      <td>26 to 30</td>\n",
       "    </tr>\n",
       "    <tr>\n",
       "      <th>4</th>\n",
       "      <td>5</td>\n",
       "      <td>2019</td>\n",
       "      <td>21</td>\n",
       "      <td>Pre Menopause</td>\n",
       "      <td>1</td>\n",
       "      <td>0</td>\n",
       "      <td>Right</td>\n",
       "      <td>False</td>\n",
       "      <td>Upper outer</td>\n",
       "      <td>True</td>\n",
       "      <td>Benign</td>\n",
       "      <td>20 to 25</td>\n",
       "    </tr>\n",
       "  </tbody>\n",
       "</table>\n",
       "</div>"
      ],
      "text/plain": [
       "   S/N  Year  Age       Menopause  Tumor Size (cm)  Inv-Nodes Breast  \\\n",
       "0    1  2019   40   Pre Menopause                2          0  Right   \n",
       "1    2  2019   39   Pre Menopause                2          0   Left   \n",
       "2    3  2019   45  Post Menopause                4          0   Left   \n",
       "3    4  2019   26   Pre Menopause                3          0   Left   \n",
       "4    5  2019   21   Pre Menopause                1          0  Right   \n",
       "\n",
       "   Metastasis Breast Quadrant  History Diagnosis Result Age group  \n",
       "0       False     Upper inner    False           Benign  36 to 40  \n",
       "1       False     Upper outer    False           Benign  36 to 40  \n",
       "2       False     Lower outer    False           Benign  41 to 45  \n",
       "3       False     Lower inner     True           Benign  26 to 30  \n",
       "4       False     Upper outer     True           Benign  20 to 25  "
      ]
     },
     "execution_count": 39,
     "metadata": {},
     "output_type": "execute_result"
    }
   ],
   "source": [
    "list1 = list()\n",
    "for age in data['Age']:\n",
    "    if age <= 20:\n",
    "        list1.append('less than 20')    # Creating a new column for the Age group   \n",
    "    elif age <= 25:\n",
    "        list1.append('20 to 25')\n",
    "    elif age <=30:\n",
    "        list1.append('26 to 30')\n",
    "    elif age <=35:\n",
    "        list1.append('31 to 35')\n",
    "    elif age <=40:\n",
    "        list1.append('36 to 40')\n",
    "    elif age <=45:\n",
    "        list1.append('41 to 45')\n",
    "    elif age <=50:\n",
    "        list1.append('46 to 50')\n",
    "    elif age <=55:\n",
    "        list1.append('51 to 55')\n",
    "    elif age <=60:\n",
    "        list1.append('56 to 60')\n",
    "    elif age <=65:\n",
    "        list1.append('61 to 65')\n",
    "    elif age <=70:\n",
    "        list1.append('66 to 70')\n",
    "    else:\n",
    "        list1.append('older than 70')\n",
    "\n",
    "data['Age group'] = list1\n",
    "data.head(5)"
   ]
  },
  {
   "cell_type": "code",
   "execution_count": 63,
   "id": "53b33444",
   "metadata": {},
   "outputs": [],
   "source": [
    "matplotlib.rcParams['font.size'] = 14\n",
    "matplotlib.rcParams['figure.figsize'] = (14,7)\n",
    "sns.set_style('darkgrid')"
   ]
  },
  {
   "cell_type": "markdown",
   "id": "ecee18ab",
   "metadata": {},
   "source": [
    "This marks the end of Data Cleaning and Transformation\n"
   ]
  },
  {
   "cell_type": "markdown",
   "id": "46a10dec",
   "metadata": {},
   "source": [
    "# Predictive Modeling of Breast Cancer Diagnosis Using Machine Learning: A Focus on Tumor size and Patient age\n",
    "\n",
    "Breast cancer is one of the most prevalent cancers affecting women worldwide. Early and accurate diagnosis is crucial for effective treatment and improving patient outcomes. In this project, we harness the power of machine learning to predict the diagnosis of breast cancer, specifically determining whether a tumor is malignant or benign based on multiple variables.\n",
    "\n",
    "Using a dataset that includes tumor size and patient age, we develop a classification model to make these predictions. Machine learning algorithms have shown great promise in the field of medical diagnostics, providing tools that can assist healthcare professionals in making faster and more accurate decisions.\n",
    "\n",
    "The dataset employed in this project consists of detailed records of breast cancer cases, including key variables that are significant for diagnosis. By applying various machine learning techniques, we aim to build a robust model that can reliably classify tumors and support the early detection of breast cancer.\n",
    "\n",
    "This project highlights the potential of machine learning in enhancing cancer diagnosis and demonstrates how data-driven approaches can contribute to better healthcare solutions.\n",
    "\n",
    "\n",
    "\n",
    "## Logistic regression"
   ]
  },
  {
   "cell_type": "code",
   "execution_count": 75,
   "id": "d815f75d",
   "metadata": {},
   "outputs": [
    {
     "data": {
      "image/png": "[encoded data removed]",
      "text/plain": [
       "<Figure size 1400x700 with 1 Axes>"
      ]
     },
     "metadata": {},
     "output_type": "display_data"
    }
   ],
   "source": [
    "sns.regplot(data=data, x='Age', y='Tumor Size (cm)', color='purple', marker='*');"
   ]
  },
  {
   "cell_type": "code",
   "execution_count": 80,
   "id": "9904bf90",
   "metadata": {},
   "outputs": [
    {
     "data": {
      "text/html": [
       "<div>\n",
       "<style scoped>\n",
       "    .dataframe tbody tr th:only-of-type {\n",
       "        vertical-align: middle;\n",
       "    }\n",
       "\n",
       "    .dataframe tbody tr th {\n",
       "        vertical-align: top;\n",
       "    }\n",
       "\n",
       "    .dataframe thead th {\n",
       "        text-align: right;\n",
       "    }\n",
       "</style>\n",
       "<table border=\"1\" class=\"dataframe\">\n",
       "  <thead>\n",
       "    <tr style=\"text-align: right;\">\n",
       "      <th></th>\n",
       "      <th>S/N</th>\n",
       "      <th>Year</th>\n",
       "      <th>Age</th>\n",
       "      <th>Tumor Size (cm)</th>\n",
       "      <th>Inv-Nodes</th>\n",
       "      <th>Metastasis</th>\n",
       "      <th>History</th>\n",
       "    </tr>\n",
       "  </thead>\n",
       "  <tbody>\n",
       "    <tr>\n",
       "      <th>S/N</th>\n",
       "      <td>1.000000</td>\n",
       "      <td>0.861077</td>\n",
       "      <td>0.015891</td>\n",
       "      <td>0.024220</td>\n",
       "      <td>0.030762</td>\n",
       "      <td>-0.018573</td>\n",
       "      <td>0.114366</td>\n",
       "    </tr>\n",
       "    <tr>\n",
       "      <th>Year</th>\n",
       "      <td>0.861077</td>\n",
       "      <td>1.000000</td>\n",
       "      <td>0.000550</td>\n",
       "      <td>0.118747</td>\n",
       "      <td>0.074853</td>\n",
       "      <td>0.019323</td>\n",
       "      <td>0.161957</td>\n",
       "    </tr>\n",
       "    <tr>\n",
       "      <th>Age</th>\n",
       "      <td>0.015891</td>\n",
       "      <td>0.000550</td>\n",
       "      <td>1.000000</td>\n",
       "      <td>0.504572</td>\n",
       "      <td>0.495718</td>\n",
       "      <td>0.475651</td>\n",
       "      <td>0.180567</td>\n",
       "    </tr>\n",
       "    <tr>\n",
       "      <th>Tumor Size (cm)</th>\n",
       "      <td>0.024220</td>\n",
       "      <td>0.118747</td>\n",
       "      <td>0.504572</td>\n",
       "      <td>1.000000</td>\n",
       "      <td>0.728929</td>\n",
       "      <td>0.701399</td>\n",
       "      <td>0.200313</td>\n",
       "    </tr>\n",
       "    <tr>\n",
       "      <th>Inv-Nodes</th>\n",
       "      <td>0.030762</td>\n",
       "      <td>0.074853</td>\n",
       "      <td>0.495718</td>\n",
       "      <td>0.728929</td>\n",
       "      <td>1.000000</td>\n",
       "      <td>0.881431</td>\n",
       "      <td>0.216288</td>\n",
       "    </tr>\n",
       "    <tr>\n",
       "      <th>Metastasis</th>\n",
       "      <td>-0.018573</td>\n",
       "      <td>0.019323</td>\n",
       "      <td>0.475651</td>\n",
       "      <td>0.701399</td>\n",
       "      <td>0.881431</td>\n",
       "      <td>1.000000</td>\n",
       "      <td>0.164842</td>\n",
       "    </tr>\n",
       "    <tr>\n",
       "      <th>History</th>\n",
       "      <td>0.114366</td>\n",
       "      <td>0.161957</td>\n",
       "      <td>0.180567</td>\n",
       "      <td>0.200313</td>\n",
       "      <td>0.216288</td>\n",
       "      <td>0.164842</td>\n",
       "      <td>1.000000</td>\n",
       "    </tr>\n",
       "  </tbody>\n",
       "</table>\n",
       "</div>"
      ],
      "text/plain": [
       "                      S/N      Year       Age  Tumor Size (cm)  Inv-Nodes  \\\n",
       "S/N              1.000000  0.861077  0.015891         0.024220   0.030762   \n",
       "Year             0.861077  1.000000  0.000550         0.118747   0.074853   \n",
       "Age              0.015891  0.000550  1.000000         0.504572   0.495718   \n",
       "Tumor Size (cm)  0.024220  0.118747  0.504572         1.000000   0.728929   \n",
       "Inv-Nodes        0.030762  0.074853  0.495718         0.728929   1.000000   \n",
       "Metastasis      -0.018573  0.019323  0.475651         0.701399   0.881431   \n",
       "History          0.114366  0.161957  0.180567         0.200313   0.216288   \n",
       "\n",
       "                 Metastasis   History  \n",
       "S/N               -0.018573  0.114366  \n",
       "Year               0.019323  0.161957  \n",
       "Age                0.475651  0.180567  \n",
       "Tumor Size (cm)    0.701399  0.200313  \n",
       "Inv-Nodes          0.881431  0.216288  \n",
       "Metastasis         1.000000  0.164842  \n",
       "History            0.164842  1.000000  "
      ]
     },
     "execution_count": 80,
     "metadata": {},
     "output_type": "execute_result"
    }
   ],
   "source": [
    "data.corr(numeric_only=True)"
   ]
  },
  {
   "cell_type": "code",
   "execution_count": 40,
   "id": "2ffd4972",
   "metadata": {},
   "outputs": [],
   "source": [
    "x = np.array(data[['Tumor Size (cm)']]) # independent variable\n",
    "y = np.array(data[['Diagnosis Result']])[:, 0] # dependent variable"
   ]
  },
  {
   "cell_type": "code",
   "execution_count": 41,
   "id": "61f57031",
   "metadata": {},
   "outputs": [
    {
     "data": {
      "text/html": [
       "<style>#sk-container-id-1 {color: black;background-color: white;}#sk-container-id-1 pre{padding: 0;}#sk-container-id-1 div.sk-toggleable {background-color: white;}#sk-container-id-1 label.sk-toggleable__label {cursor: pointer;display: block;width: 100%;margin-bottom: 0;padding: 0.3em;box-sizing: border-box;text-align: center;}#sk-container-id-1 label.sk-toggleable__label-arrow:before {content: \"▸\";float: left;margin-right: 0.25em;color: #696969;}#sk-container-id-1 label.sk-toggleable__label-arrow:hover:before {color: black;}#sk-container-id-1 div.sk-estimator:hover label.sk-toggleable__label-arrow:before {color: black;}#sk-container-id-1 div.sk-toggleable__content {max-height: 0;max-width: 0;overflow: hidden;text-align: left;background-color: #f0f8ff;}#sk-container-id-1 div.sk-toggleable__content pre {margin: 0.2em;color: black;border-radius: 0.25em;background-color: #f0f8ff;}#sk-container-id-1 input.sk-toggleable__control:checked~div.sk-toggleable__content {max-height: 200px;max-width: 100%;overflow: auto;}#sk-container-id-1 input.sk-toggleable__control:checked~label.sk-toggleable__label-arrow:before {content: \"▾\";}#sk-container-id-1 div.sk-estimator input.sk-toggleable__control:checked~label.sk-toggleable__label {background-color: #d4ebff;}#sk-container-id-1 div.sk-label input.sk-toggleable__control:checked~label.sk-toggleable__label {background-color: #d4ebff;}#sk-container-id-1 input.sk-hidden--visually {border: 0;clip: rect(1px 1px 1px 1px);clip: rect(1px, 1px, 1px, 1px);height: 1px;margin: -1px;overflow: hidden;padding: 0;position: absolute;width: 1px;}#sk-container-id-1 div.sk-estimator {font-family: monospace;background-color: #f0f8ff;border: 1px dotted black;border-radius: 0.25em;box-sizing: border-box;margin-bottom: 0.5em;}#sk-container-id-1 div.sk-estimator:hover {background-color: #d4ebff;}#sk-container-id-1 div.sk-parallel-item::after {content: \"\";width: 100%;border-bottom: 1px solid gray;flex-grow: 1;}#sk-container-id-1 div.sk-label:hover label.sk-toggleable__label {background-color: #d4ebff;}#sk-container-id-1 div.sk-serial::before {content: \"\";position: absolute;border-left: 1px solid gray;box-sizing: border-box;top: 0;bottom: 0;left: 50%;z-index: 0;}#sk-container-id-1 div.sk-serial {display: flex;flex-direction: column;align-items: center;background-color: white;padding-right: 0.2em;padding-left: 0.2em;position: relative;}#sk-container-id-1 div.sk-item {position: relative;z-index: 1;}#sk-container-id-1 div.sk-parallel {display: flex;align-items: stretch;justify-content: center;background-color: white;position: relative;}#sk-container-id-1 div.sk-item::before, #sk-container-id-1 div.sk-parallel-item::before {content: \"\";position: absolute;border-left: 1px solid gray;box-sizing: border-box;top: 0;bottom: 0;left: 50%;z-index: -1;}#sk-container-id-1 div.sk-parallel-item {display: flex;flex-direction: column;z-index: 1;position: relative;background-color: white;}#sk-container-id-1 div.sk-parallel-item:first-child::after {align-self: flex-end;width: 50%;}#sk-container-id-1 div.sk-parallel-item:last-child::after {align-self: flex-start;width: 50%;}#sk-container-id-1 div.sk-parallel-item:only-child::after {width: 0;}#sk-container-id-1 div.sk-dashed-wrapped {border: 1px dashed gray;margin: 0 0.4em 0.5em 0.4em;box-sizing: border-box;padding-bottom: 0.4em;background-color: white;}#sk-container-id-1 div.sk-label label {font-family: monospace;font-weight: bold;display: inline-block;line-height: 1.2em;}#sk-container-id-1 div.sk-label-container {text-align: center;}#sk-container-id-1 div.sk-container {/* jupyter's `normalize.less` sets `[hidden] { display: none; }` but bootstrap.min.css set `[hidden] { display: none !important; }` so we also need the `!important` here to be able to override the default hidden behavior on the sphinx rendered scikit-learn.org. See: https://github.com/scikit-learn/scikit-learn/issues/21755 */display: inline-block !important;position: relative;}#sk-container-id-1 div.sk-text-repr-fallback {display: none;}</style><div id=\"sk-container-id-1\" class=\"sk-top-container\"><div class=\"sk-text-repr-fallback\"><pre>LogisticRegression()</pre><b>In a Jupyter environment, please rerun this cell to show the HTML representation or trust the notebook. <br />On GitHub, the HTML representation is unable to render, please try loading this page with nbviewer.org.</b></div><div class=\"sk-container\" hidden><div class=\"sk-item\"><div class=\"sk-estimator sk-toggleable\"><input class=\"sk-toggleable__control sk-hidden--visually\" id=\"sk-estimator-id-1\" type=\"checkbox\" checked><label for=\"sk-estimator-id-1\" class=\"sk-toggleable__label sk-toggleable__label-arrow\">LogisticRegression</label><div class=\"sk-toggleable__content\"><pre>LogisticRegression()</pre></div></div></div></div></div>"
      ],
      "text/plain": [
       "LogisticRegression()"
      ]
     },
     "execution_count": 41,
     "metadata": {},
     "output_type": "execute_result"
    }
   ],
   "source": [
    "logr = linear_model.LogisticRegression() \n",
    "logr.fit(x,y) # logistic regression model"
   ]
  },
  {
   "cell_type": "code",
   "execution_count": 42,
   "id": "47cb1b18",
   "metadata": {},
   "outputs": [
    {
     "name": "stdout",
     "output_type": "stream",
     "text": [
      "['Benign']\n"
     ]
    }
   ],
   "source": [
    "predicted=logr.predict(np.array([4]).reshape(-1, 1)) # model Prediction\n",
    "print(predicted)"
   ]
  },
  {
   "cell_type": "code",
   "execution_count": 43,
   "id": "b797139e",
   "metadata": {},
   "outputs": [
    {
     "data": {
      "text/plain": [
       "Benign       26\n",
       "Malignant     5\n",
       "Name: Diagnosis Result, dtype: int64"
      ]
     },
     "execution_count": 43,
     "metadata": {},
     "output_type": "execute_result"
    }
   ],
   "source": [
    "data[data['Tumor Size (cm)'] == 4]['Diagnosis Result'].value_counts() # Number of datas with the input tumor size variable"
   ]
  },
  {
   "cell_type": "code",
   "execution_count": 44,
   "id": "924dcdb0",
   "metadata": {},
   "outputs": [
    {
     "name": "stdout",
     "output_type": "stream",
     "text": [
      "83% chances of been Benign\n"
     ]
    }
   ],
   "source": [
    "a = data[data['Tumor Size (cm)'] == 4]['Diagnosis Result'].value_counts() # Probability\n",
    "chances = int((max(a)/sum(a))*100)\n",
    "print('{}% chances of been {}'.format(chances,str(predicted)[2:].replace(\"'\",\"\").replace(\"]\",\"\")))"
   ]
  },
  {
   "cell_type": "code",
   "execution_count": 45,
   "id": "f25a5f7d",
   "metadata": {},
   "outputs": [
    {
     "data": {
      "text/plain": [
       "0.8829268292682927"
      ]
     },
     "execution_count": 45,
     "metadata": {},
     "output_type": "execute_result"
    }
   ],
   "source": [
    "logr.score(x,y) # logistic regression model evaluation"
   ]
  },
  {
   "cell_type": "markdown",
   "id": "8dcb08c5",
   "metadata": {},
   "source": [
    "has a good relationship!"
   ]
  },
  {
   "cell_type": "code",
   "execution_count": 46,
   "id": "80bd896f",
   "metadata": {},
   "outputs": [
    {
     "name": "stdout",
     "output_type": "stream",
     "text": [
      "[[2.89130113]]\n"
     ]
    }
   ],
   "source": [
    "log_odds = logr.coef_\n",
    "odds = np.exp(log_odds)  # Coefficient\n",
    "\n",
    "print(odds)"
   ]
  },
  {
   "cell_type": "code",
   "execution_count": 47,
   "id": "e37c5d83",
   "metadata": {},
   "outputs": [],
   "source": [
    "def prediction_function():\n",
    "    a = int(input('Tumor Size: '))\n",
    "    predicted=logr.predict(np.array([a]).reshape(-1, 1))\n",
    "    print('Prediction: {} diagnosis'.format(str(predicted)[2:].replace(\"']\",\"\")))\n",
    "    \n",
    "    b = data[data['Tumor Size (cm)'] == a]['Diagnosis Result'].value_counts()\n",
    "    chances = int((max(b)/sum(b))*100)\n",
    "    print('There is {}% chance of the daignosis been {}'.format(chances,str(predicted)[2:].replace(\"']\",\"\")))"
   ]
  },
  {
   "cell_type": "code",
   "execution_count": 49,
   "id": "619e2f01",
   "metadata": {},
   "outputs": [
    {
     "name": "stdout",
     "output_type": "stream",
     "text": [
      "Tumor Size: 4\n",
      "Prediction: Benign diagnosis\n",
      "There is 83% chance of the daignosis been Benign\n"
     ]
    }
   ],
   "source": [
    "prediction_function()"
   ]
  },
  {
   "cell_type": "markdown",
   "id": "60c16cd1",
   "metadata": {},
   "source": [
    "### Prediction 1"
   ]
  },
  {
   "cell_type": "code",
   "execution_count": null,
   "id": "27dcd19d",
   "metadata": {},
   "outputs": [],
   "source": [
    "prediction_function()"
   ]
  },
  {
   "cell_type": "markdown",
   "id": "097e1060",
   "metadata": {},
   "source": [
    "### Prediction 2"
   ]
  },
  {
   "cell_type": "code",
   "execution_count": null,
   "id": "474bb41f",
   "metadata": {},
   "outputs": [],
   "source": [
    "prediction_function()"
   ]
  },
  {
   "cell_type": "markdown",
   "id": "ca228b23",
   "metadata": {},
   "source": [
    "### Prediction 3"
   ]
  },
  {
   "cell_type": "code",
   "execution_count": null,
   "id": "02de1c19",
   "metadata": {},
   "outputs": [],
   "source": [
    "prediction_function()"
   ]
  },
  {
   "cell_type": "code",
   "execution_count": null,
   "id": "14850594",
   "metadata": {},
   "outputs": [],
   "source": []
  },
  {
   "cell_type": "markdown",
   "id": "ae830a02",
   "metadata": {},
   "source": [
    "## Multiple logistic regression"
   ]
  },
  {
   "cell_type": "code",
   "execution_count": 82,
   "id": "243006fb",
   "metadata": {},
   "outputs": [
    {
     "data": {
      "image/png": "[encoded data removed]",
      "text/plain": [
       "<Figure size 1400x700 with 1 Axes>"
      ]
     },
     "metadata": {},
     "output_type": "display_data"
    }
   ],
   "source": [
    "sns.scatterplot(data=data, y='Tumor Size (cm)', x='Age', hue='Diagnosis Result')\n",
    "matplotlib.pyplot.title('Relationship of tumor size and age with diagnosis');"
   ]
  },
  {
   "cell_type": "code",
   "execution_count": null,
   "id": "b0275904",
   "metadata": {},
   "outputs": [],
   "source": [
    "model = linear_model.LogisticRegression(multi_class='multinomial', solver='lbfgs') # building regression model"
   ]
  },
  {
   "cell_type": "code",
   "execution_count": null,
   "id": "94a1ebf2",
   "metadata": {},
   "outputs": [],
   "source": [
    "x = np.array(data[['Tumor Size (cm)', 'Age']]) # independent variable\n",
    "y = np.array(data[['Diagnosis Result']])[:, 0] # dependent variable"
   ]
  },
  {
   "cell_type": "code",
   "execution_count": null,
   "id": "bfb1d1a5",
   "metadata": {},
   "outputs": [],
   "source": [
    "model.fit(x,y) # multinomial logistic regression model"
   ]
  },
  {
   "cell_type": "code",
   "execution_count": null,
   "id": "fcd731f1",
   "metadata": {},
   "outputs": [],
   "source": [
    "prediction = model.predict(np.array([5, 60]).reshape(1, -1)) # multinomial logistic regression model prediction\n",
    "prediction"
   ]
  },
  {
   "cell_type": "code",
   "execution_count": null,
   "id": "4e1f30d8",
   "metadata": {},
   "outputs": [],
   "source": [
    "model.score(x,y) # multiple logistic regression model evaluation"
   ]
  },
  {
   "cell_type": "markdown",
   "id": "b25086a4",
   "metadata": {},
   "source": [
    "has a good relationship!"
   ]
  },
  {
   "cell_type": "code",
   "execution_count": null,
   "id": "04de53b5",
   "metadata": {},
   "outputs": [],
   "source": [
    "def multiple_prediction_function():\n",
    "    c = int(input('Tumor Size (cm): '))\n",
    "    d = int(input('Age: '))\n",
    "    prediction = model.predict(np.array([c, d]).reshape(1, -1))\n",
    "    print('Diagnosis will likely be {}'.format(str(prediction)[2:].replace(\"']\", \"\")))"
   ]
  },
  {
   "cell_type": "code",
   "execution_count": null,
   "id": "6a000320",
   "metadata": {},
   "outputs": [],
   "source": [
    "multiple_prediction_function()"
   ]
  },
  {
   "cell_type": "markdown",
   "id": "b9668d16",
   "metadata": {},
   "source": [
    "### Prediction 1"
   ]
  },
  {
   "cell_type": "code",
   "execution_count": null,
   "id": "989681ec",
   "metadata": {},
   "outputs": [],
   "source": [
    "multiple_prediction_function()"
   ]
  },
  {
   "cell_type": "markdown",
   "id": "1b0f7c6f",
   "metadata": {},
   "source": [
    "### Prediction 2"
   ]
  },
  {
   "cell_type": "code",
   "execution_count": null,
   "id": "31b3dd45",
   "metadata": {},
   "outputs": [],
   "source": [
    "multiple_prediction_function()"
   ]
  },
  {
   "cell_type": "markdown",
   "id": "9d7cf9e9",
   "metadata": {},
   "source": [
    "### Prediction 3"
   ]
  },
  {
   "cell_type": "code",
   "execution_count": null,
   "id": "0b7086f2",
   "metadata": {},
   "outputs": [],
   "source": [
    "multiple_prediction_function()"
   ]
  },
  {
   "cell_type": "code",
   "execution_count": null,
   "id": "1ae21df4",
   "metadata": {},
   "outputs": [],
   "source": []
  },
  {
   "cell_type": "markdown",
   "id": "a07f5753",
   "metadata": {},
   "source": [
    "**This marks the end of Machine learning on Breast cancer dataset.**"
   ]
  },
  {
   "cell_type": "code",
   "execution_count": null,
   "id": "29c999f2",
   "metadata": {},
   "outputs": [],
   "source": []
  }
 ],
 "metadata": {
  "kernelspec": {
   "display_name": "Python 3 (ipykernel)",
   "language": "python",
   "name": "python3"
  },
  "language_info": {
   "codemirror_mode": {
    "name": "ipython",
    "version": 3
   },
   "file_extension": ".py",
   "mimetype": "text/x-python",
   "name": "python",
   "nbconvert_exporter": "python",
   "pygments_lexer": "ipython3",
   "version": "3.10.9"
  }
 },
 "nbformat": 4,
 "nbformat_minor": 5
}
